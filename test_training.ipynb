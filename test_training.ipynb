{
 "cells": [
  {
   "cell_type": "code",
   "execution_count": 14,
   "metadata": {},
   "outputs": [
    {
     "name": "stdout",
     "output_type": "stream",
     "text": [
      "(0.5, [0, 1, 1, 0])\n",
      "(0.25, [0, 1, 0, 0])\n"
     ]
    }
   ],
   "source": [
    "from src.evaluation.metrics import compute_accuracy_1,compute_accuracy_2\n",
    "\n",
    "test_gt = [100,120,140,120]\n",
    "test_preds = [95,120,70,180]\n",
    "\n",
    "print(compute_accuracy_2(test_gt,test_preds))\n",
    "\n",
    "print(compute_accuracy_1(test_gt,test_preds))"
   ]
  },
  {
   "cell_type": "code",
   "execution_count": 3,
   "metadata": {},
   "outputs": [],
   "source": [
    "import torch\n",
    "\n",
    "test = torch.ones((32,1))\n",
    "gt = torch.ones((32))"
   ]
  },
  {
   "cell_type": "code",
   "execution_count": 6,
   "metadata": {},
   "outputs": [
    {
     "name": "stdout",
     "output_type": "stream",
     "text": [
      "Siamese(\n",
      "  (conv1): Conv2d(1, 16, kernel_size=(3, 3), stride=(1, 1))\n",
      "  (conv2): Conv2d(16, 16, kernel_size=(3, 3), stride=(1, 1))\n",
      "  (conv3): Conv2d(16, 16, kernel_size=(8, 1), stride=(1, 1))\n",
      "  (pool): MaxPool2d(kernel_size=(3, 1), stride=(3, 1), padding=0, dilation=1, ceil_mode=False)\n",
      "  (batch_norm): BatchNorm2d(1, eps=1e-05, momentum=0.1, affine=True, track_running_stats=True)\n",
      "  (activation): ELU(alpha=1.0)\n",
      "  (dropout): Dropout(p=0.1, inplace=False)\n",
      "  (tcn): TCN(\n",
      "    (tcn): ModuleList(\n",
      "      (0): Residual(\n",
      "        (conv1): Conv1d(16, 16, kernel_size=(5,), stride=(1,), padding=same)\n",
      "        (conv2): Conv1d(16, 16, kernel_size=(1,), stride=(1,))\n",
      "        (res_conv): Conv1d(16, 16, kernel_size=(1,), stride=(1,))\n",
      "        (activation): ELU(alpha=1.0)\n",
      "        (dropout): Dropout1d(p=0.1, inplace=False)\n",
      "      )\n",
      "      (1): Residual(\n",
      "        (conv1): Conv1d(16, 16, kernel_size=(5,), stride=(1,), padding=same, dilation=(2,))\n",
      "        (conv2): Conv1d(16, 16, kernel_size=(1,), stride=(1,))\n",
      "        (res_conv): Conv1d(16, 16, kernel_size=(1,), stride=(1,))\n",
      "        (activation): ELU(alpha=1.0)\n",
      "        (dropout): Dropout1d(p=0.1, inplace=False)\n",
      "      )\n",
      "      (2): Residual(\n",
      "        (conv1): Conv1d(16, 16, kernel_size=(5,), stride=(1,), padding=same, dilation=(4,))\n",
      "        (conv2): Conv1d(16, 16, kernel_size=(1,), stride=(1,))\n",
      "        (res_conv): Conv1d(16, 16, kernel_size=(1,), stride=(1,))\n",
      "        (activation): ELU(alpha=1.0)\n",
      "        (dropout): Dropout1d(p=0.1, inplace=False)\n",
      "      )\n",
      "      (3): Residual(\n",
      "        (conv1): Conv1d(16, 16, kernel_size=(5,), stride=(1,), padding=same, dilation=(8,))\n",
      "        (conv2): Conv1d(16, 16, kernel_size=(1,), stride=(1,))\n",
      "        (res_conv): Conv1d(16, 16, kernel_size=(1,), stride=(1,))\n",
      "        (activation): ELU(alpha=1.0)\n",
      "        (dropout): Dropout1d(p=0.1, inplace=False)\n",
      "      )\n",
      "      (4): Residual(\n",
      "        (conv1): Conv1d(16, 16, kernel_size=(5,), stride=(1,), padding=same, dilation=(16,))\n",
      "        (conv2): Conv1d(16, 16, kernel_size=(1,), stride=(1,))\n",
      "        (res_conv): Conv1d(16, 16, kernel_size=(1,), stride=(1,))\n",
      "        (activation): ELU(alpha=1.0)\n",
      "        (dropout): Dropout1d(p=0.1, inplace=False)\n",
      "      )\n",
      "      (5): Residual(\n",
      "        (conv1): Conv1d(16, 16, kernel_size=(5,), stride=(1,), padding=same, dilation=(32,))\n",
      "        (conv2): Conv1d(16, 16, kernel_size=(1,), stride=(1,))\n",
      "        (res_conv): Conv1d(16, 16, kernel_size=(1,), stride=(1,))\n",
      "        (activation): ELU(alpha=1.0)\n",
      "        (dropout): Dropout1d(p=0.1, inplace=False)\n",
      "      )\n",
      "      (6): Residual(\n",
      "        (conv1): Conv1d(16, 16, kernel_size=(5,), stride=(1,), padding=same, dilation=(64,))\n",
      "        (conv2): Conv1d(16, 16, kernel_size=(1,), stride=(1,))\n",
      "        (res_conv): Conv1d(16, 16, kernel_size=(1,), stride=(1,))\n",
      "        (activation): ELU(alpha=1.0)\n",
      "        (dropout): Dropout1d(p=0.1, inplace=False)\n",
      "      )\n",
      "      (7): Residual(\n",
      "        (conv1): Conv1d(16, 16, kernel_size=(5,), stride=(1,), padding=same, dilation=(128,))\n",
      "        (conv2): Conv1d(16, 16, kernel_size=(1,), stride=(1,))\n",
      "        (res_conv): Conv1d(16, 16, kernel_size=(1,), stride=(1,))\n",
      "        (activation): ELU(alpha=1.0)\n",
      "        (dropout): Dropout1d(p=0.1, inplace=False)\n",
      "      )\n",
      "      (8): Residual(\n",
      "        (conv1): Conv1d(16, 16, kernel_size=(5,), stride=(1,), padding=same, dilation=(256,))\n",
      "        (conv2): Conv1d(16, 16, kernel_size=(1,), stride=(1,))\n",
      "        (res_conv): Conv1d(16, 16, kernel_size=(1,), stride=(1,))\n",
      "        (activation): ELU(alpha=1.0)\n",
      "        (dropout): Dropout1d(p=0.1, inplace=False)\n",
      "      )\n",
      "      (9): Residual(\n",
      "        (conv1): Conv1d(16, 16, kernel_size=(5,), stride=(1,), padding=same, dilation=(512,))\n",
      "        (conv2): Conv1d(16, 16, kernel_size=(1,), stride=(1,))\n",
      "        (res_conv): Conv1d(16, 16, kernel_size=(1,), stride=(1,))\n",
      "        (activation): ELU(alpha=1.0)\n",
      "        (dropout): Dropout1d(p=0.1, inplace=False)\n",
      "      )\n",
      "    )\n",
      "  )\n",
      "  (head): Head(\n",
      "    (pool): AdaptiveAvgPool1d(output_size=1)\n",
      "    (activation): ELU(alpha=1.0)\n",
      "    (dropout): Dropout(p=0.1, inplace=False)\n",
      "    (linear): Linear(in_features=16, out_features=16, bias=True)\n",
      "  )\n",
      "  (hat): Hat(\n",
      "    (classification): Linear(in_features=16, out_features=300, bias=True)\n",
      "    (regression): Linear(in_features=16, out_features=1, bias=True)\n",
      "  )\n",
      ")\n"
     ]
    }
   ],
   "source": [
    "from src.model.model import Siamese\n",
    "\n",
    "print(Siamese())"
   ]
  },
  {
   "cell_type": "code",
   "execution_count": null,
   "metadata": {},
   "outputs": [],
   "source": [
    "# test dataloader\n",
    "\n",
    "from tqdm import tqdm\n",
    "\n",
    "for x in tqdm(dataloader):\n",
    "    print(x['audio_1'].shape)\n",
    "    print(x['audio_1'].max())\n",
    "    print(x['audio_1'].min())\n",
    "    y=x"
   ]
  },
  {
   "cell_type": "code",
   "execution_count": null,
   "metadata": {},
   "outputs": [],
   "source": [
    "import torchaudio\n",
    "import soundfile as sf\n",
    "from glob import glob\n",
    "import random\n",
    "\n",
    "ls = glob('data/MTAT/*/*.mp3')\n",
    "print(len(ls))\n",
    "print(ls[:10])\n",
    "x = random.choice(ls)\n",
    "# audio, sr = torchaudio.load(x)\n",
    "audio, sr = sf.read(x)\n",
    "\n",
    "print(audio.shape)"
   ]
  },
  {
   "cell_type": "code",
   "execution_count": null,
   "metadata": {},
   "outputs": [],
   "source": [
    "train_loop(dataloader, model, optimizer, scaler)"
   ]
  }
 ],
 "metadata": {
  "kernelspec": {
   "display_name": "tfexp",
   "language": "python",
   "name": "python3"
  },
  "language_info": {
   "codemirror_mode": {
    "name": "ipython",
    "version": 3
   },
   "file_extension": ".py",
   "mimetype": "text/x-python",
   "name": "python",
   "nbconvert_exporter": "python",
   "pygments_lexer": "ipython3",
   "version": "3.9.18"
  }
 },
 "nbformat": 4,
 "nbformat_minor": 2
}
