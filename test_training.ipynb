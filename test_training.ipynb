{
 "cells": [
  {
   "cell_type": "code",
   "execution_count": null,
   "metadata": {},
   "outputs": [],
   "source": [
    "import os\n",
    "os.environ[\"CUDA_VISIBLE_DEVICES\"] = \"7\"\n",
    "from src.training.train import *\n",
    "from src.data_loading.datasets import *"
   ]
  },
  {
   "cell_type": "code",
   "execution_count": null,
   "metadata": {},
   "outputs": [],
   "source": [
    "trainer = Trainer()\n",
    "model, optimizer, scaler, it = trainer.init_model()\n",
    "dataset = MTATDataset()\n",
    "dataloader = dataset.create_dataloader()"
   ]
  },
  {
   "cell_type": "code",
   "execution_count": null,
   "metadata": {},
   "outputs": [],
   "source": [
    "from torch.utils.tensorboard import SummaryWriter\n",
    "writer = SummaryWriter()\n",
    "\n",
    "trainer.train_loop(dataloader, model, optimizer, scaler, writer=writer)"
   ]
  },
  {
   "cell_type": "code",
   "execution_count": null,
   "metadata": {},
   "outputs": [],
   "source": [
    "# test dataloader\n",
    "\n",
    "from tqdm import tqdm\n",
    "\n",
    "for x in tqdm(dataloader):\n",
    "    print(x['audio_1'].shape)\n",
    "    print(x['audio_1'].max())\n",
    "    print(x['audio_1'].min())\n",
    "    y=x"
   ]
  },
  {
   "cell_type": "code",
   "execution_count": null,
   "metadata": {},
   "outputs": [],
   "source": [
    "import torchaudio\n",
    "import soundfile as sf\n",
    "from glob import glob\n",
    "import random\n",
    "\n",
    "ls = glob('data/MTAT/*/*.mp3')\n",
    "print(len(ls))\n",
    "print(ls[:10])\n",
    "x = random.choice(ls)\n",
    "# audio, sr = torchaudio.load(x)\n",
    "audio, sr = sf.read(x)\n",
    "\n",
    "print(audio.shape)"
   ]
  },
  {
   "cell_type": "code",
   "execution_count": null,
   "metadata": {},
   "outputs": [],
   "source": [
    "train_loop(dataloader, model, optimizer, scaler)"
   ]
  }
 ],
 "metadata": {
  "kernelspec": {
   "display_name": "tfexp",
   "language": "python",
   "name": "python3"
  },
  "language_info": {
   "codemirror_mode": {
    "name": "ipython",
    "version": 3
   },
   "file_extension": ".py",
   "mimetype": "text/x-python",
   "name": "python",
   "nbconvert_exporter": "python",
   "pygments_lexer": "ipython3",
   "version": "3.9.12"
  }
 },
 "nbformat": 4,
 "nbformat_minor": 2
}
