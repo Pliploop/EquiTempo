{
 "cells": [
  {
   "cell_type": "code",
   "execution_count": 4,
   "metadata": {},
   "outputs": [
    {
     "name": "stdout",
     "output_type": "stream",
     "text": [
      "Index(['name', ' tempo'], dtype='object')\n",
      "                   name       tempo\n",
      "0  hainsworth_158.beats  140.000000\n",
      "1  hainsworth_090.beats  156.574924\n",
      "2  hainsworth_066.beats  130.452507\n",
      "3  hainsworth_157.beats  137.013503\n",
      "4  hainsworth_150.beats  102.682751\n",
      "Index(['name', 'tempo'], dtype='object')\n"
     ]
    }
   ],
   "source": [
    "import pandas as pd\n",
    "df = pd.read_csv('data/hainsworth_tempo.csv', sep=\",\")\n",
    "print(df.columns)\n",
    "print(df.head())\n",
    "df = df.rename(columns={' tempo': 'tempo'})\n",
    "print(df.columns)"
   ]
  },
  {
   "cell_type": "code",
   "execution_count": 2,
   "metadata": {},
   "outputs": [],
   "source": [
    "df.to_csv('data/hainsworth_tempo_fixed.csv', index=False)"
   ]
  },
  {
   "cell_type": "code",
   "execution_count": 3,
   "metadata": {},
   "outputs": [
    {
     "name": "stdout",
     "output_type": "stream",
     "text": [
      "Index(['name', 'tempo'], dtype='object')\n",
      "                   name       tempo\n",
      "0  hainsworth_158.beats  140.000000\n",
      "1  hainsworth_090.beats  156.574924\n",
      "2  hainsworth_066.beats  130.452507\n",
      "3  hainsworth_157.beats  137.013503\n",
      "4  hainsworth_150.beats  102.682751\n"
     ]
    }
   ],
   "source": [
    "df = pd.read_csv('data/hainsworth_tempo_fixed.csv', sep=\",\")\n",
    "print(df.columns)\n",
    "print(df.head())"
   ]
  }
 ],
 "metadata": {
  "kernelspec": {
   "display_name": "Python 3",
   "language": "python",
   "name": "python3"
  },
  "language_info": {
   "codemirror_mode": {
    "name": "ipython",
    "version": 3
   },
   "file_extension": ".py",
   "mimetype": "text/x-python",
   "name": "python",
   "nbconvert_exporter": "python",
   "pygments_lexer": "ipython3",
   "version": "3.9.12"
  }
 },
 "nbformat": 4,
 "nbformat_minor": 2
}
